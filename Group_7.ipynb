{
 "cells": [
  {
   "cell_type": "code",
   "execution_count": 18,
   "id": "77cf112d",
   "metadata": {},
   "outputs": [
    {
     "name": "stdout",
     "output_type": "stream",
     "text": [
      "\"The greatest glory in living lies not in never falling, but in rising every time we fall.\"\n",
      "- Nelson Mandela\n"
     ]
    }
   ],
   "source": [
    "import random\n",
    "import csv\n",
    "\n",
    "# Open the CSV file and read quotes\n",
    "with open('Quotes.csv') as csvfile:\n",
    "    reader = csv.reader(csvfile)\n",
    "    quotes = [(row[0], row[1]) for row in reader]\n",
    "\n",
    "# Generate a random index\n",
    "index = random.randint(0, len(quotes) - 1)\n",
    "\n",
    "# Print the quote and author at the random index\n",
    "print(quotes[index][0])\n",
    "print(\"- \" + quotes[index][1])"
   ]
  },
  {
   "cell_type": "code",
   "execution_count": null,
   "id": "dbe4ff0c",
   "metadata": {},
   "outputs": [],
   "source": []
  },
  {
   "cell_type": "code",
   "execution_count": null,
   "id": "9e6fa95f",
   "metadata": {},
   "outputs": [],
   "source": []
  }
 ],
 "metadata": {
  "kernelspec": {
   "display_name": "Python 3 (ipykernel)",
   "language": "python",
   "name": "python3"
  },
  "language_info": {
   "codemirror_mode": {
    "name": "ipython",
    "version": 3
   },
   "file_extension": ".py",
   "mimetype": "text/x-python",
   "name": "python",
   "nbconvert_exporter": "python",
   "pygments_lexer": "ipython3",
   "version": "3.9.13"
  }
 },
 "nbformat": 4,
 "nbformat_minor": 5
}
